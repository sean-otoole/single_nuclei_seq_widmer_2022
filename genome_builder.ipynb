{
 "cells": [
  {
   "cell_type": "code",
   "execution_count": 2,
   "metadata": {},
   "outputs": [
    {
     "name": "stdout",
     "output_type": "stream",
     "text": [
      "25179192\n",
      "25190563\n"
     ]
    }
   ],
   "source": [
    "flx_start = 25181192 - 2000\n",
    "flx_end = 25188563 + 2000\n",
    "\n",
    "print(flx_start)\n",
    "print(flx_end)"
   ]
  },
  {
   "cell_type": "code",
   "execution_count": 1,
   "metadata": {},
   "outputs": [],
   "source": [
    "#imports\n",
    "\n",
    "import os\n",
    "from Bio import SeqIO\n",
    "from shutil import copyfile"
   ]
  },
  {
   "cell_type": "code",
   "execution_count": 2,
   "metadata": {},
   "outputs": [],
   "source": [
    "# important file paths and variables\n",
    "\n",
    "plasmid_path = '/XXX/plasmids/addgene-plasmid-107312-sequence-237633.gbk'\n",
    "original_fasta = '/XXX/original_files_for_genome_build/Mus_musculus.GRCm39.dna.primary_assembly.fa'\n",
    "mod_fasta_path = 'XXX/mcherry_nr1_genome_expand/fasta.fa'\n",
    "original_gtf = '/XXX/original_files_for_genome_build/Mus_musculus.GRCm39.104.gtf'\n",
    "mod_gtf_path = '/XXX/mcherry_nr1_genome_expand/genes.gtf'\n",
    "filtered_gtf_path = 'XXX/mcherry_nr1_genome_expand/genes.filter.gtf'\n",
    "bed_path = 'XXX/opt_items/mcherry_nr1_genome_expand/genes.filter.bed'\n",
    "genome_name = 'modified_genome'\n",
    "\n",
    "flx_start = 25181192 - 2000\n",
    "flx_end = 25188563 + 2000\n",
    "flx_chr = '2'\n",
    "buffer = 0"
   ]
  },
  {
   "cell_type": "code",
   "execution_count": 3,
   "metadata": {},
   "outputs": [
    {
     "name": "stdout",
     "output_type": "stream",
     "text": [
      "Name Exported, 28 features\n",
      "Seq('CCTGCAGGCAGCTGCGCGCTCGCTCGCTCACTGAGGCCGCCCGGGCGTCGGGCG...TGT', IUPACAmbiguousDNA())\n"
     ]
    }
   ],
   "source": [
    "### amend the fasta file\n",
    "\n",
    "# get the plasmid\n",
    "from Bio import SeqIO\n",
    "gb_file = plasmid_path\n",
    "for gb_record in SeqIO.parse(open(gb_file,\"r\"), \"genbank\") :\n",
    "    # now do something with the record\n",
    "    print(\"Name %s, %i features\" % (gb_record.name, len(gb_record.features)))\n",
    "    print(repr(gb_record.seq))    \n",
    "mcherry_raw_seq = str(getattr(gb_record,'seq'))\n",
    "\n",
    "#use the original fasta to build new headers\n",
    "with open (original_fasta, \"r\") as myfile:\n",
    "    genome_list=myfile.readlines()\n",
    "    \n",
    "matched_items = [item for item in genome_list if \">\" in item] #list comprehension to find the headers\n",
    "template_header = matched_items[20]\n",
    "virus_header = template_header.replace('X', 'V')\n",
    "virus_header = virus_header.replace('171031299', str(len(mcherry_raw_seq)))\n",
    "\n",
    "### break the plasmid string into 61 character increments for each line\n",
    "def chunkstring(string, length):\n",
    "    return (string[0+i:length+i] for i in range(0, len(string), length))\n",
    "broken_dna = list(chunkstring(mcherry_raw_seq, 61))  ### this is where we've stored our list\n",
    "broken_dna = ['{0}\\n'.format(element) for element in broken_dna]  #add new line characters\n",
    "\n",
    "#now place the plasmid sequences/lines sequence after the header\n",
    "fasta_input_list = []\n",
    "fasta_input_list.extend(broken_dna) \n",
    "fasta_input_list.insert(0, virus_header)\n",
    "\n",
    "#copy the original file\n",
    "copyfile(original_fasta, mod_fasta_path)\n",
    "\n",
    "#write to that file\n",
    "with open(mod_fasta_path, \"a\") as myfile:\n",
    "    for item in fasta_input_list:\n",
    "        myfile.write(item)"
   ]
  },
  {
   "cell_type": "code",
   "execution_count": 4,
   "metadata": {},
   "outputs": [],
   "source": [
    "# alter the Gtf file\n",
    "\n",
    "#filter out the features that overlap with the floxed region\n",
    "\n",
    "i = 0\n",
    "with open(original_gtf, \"r\") as file_input:\n",
    "    with open(mod_gtf_path, \"w\") as output:\n",
    "        for line in file_input:\n",
    "            if i < 5:\n",
    "                i = i + 1\n",
    "                output.write(line)\n",
    "            else:\n",
    "                current_features = line.split(\"\\t\")\n",
    "                feature_start = int(current_features[3])\n",
    "                feature_end = int(current_features[4])\n",
    "                feature_chr = current_features[0]\n",
    "                feature_strand = current_features[6]\n",
    "                if (feature_chr != flx_chr):\n",
    "                    output.write(line)\n",
    "                elif (feature_chr == flx_chr) and (feature_start <= flx_start) and (feature_end >= flx_end):\n",
    "                    continue\n",
    "                elif (feature_chr == flx_chr) and (feature_start >= flx_start) and (feature_start <= flx_end):\n",
    "                    continue\n",
    "                elif (feature_chr == flx_chr) and (feature_end >= flx_start) and (feature_end <= flx_end):\n",
    "                    continue\n",
    "                elif (feature_chr == flx_chr) and (feature_start <= (flx_start-buffer)):\n",
    "                    output.write(line)\n",
    "                    continue\n",
    "                elif (feature_chr == flx_chr) and (feature_end >= (flx_end+buffer)):\n",
    "                    output.write(line)\n",
    "                    continue\n",
    "                elif (feature_chr == flx_chr) and (feature_end <= flx_end) and (feature_start >= flx_start):\n",
    "                    continue\n",
    "\n",
    "# set up the features that will be added to the GTF\n",
    "\n",
    "mCherry = ['V','mCherry','exon','1','6241','.','+','.',  ###first 8 elements, tab delimited\n",
    "            'gene_id \"mCherry\"',   ### remaining elements, semicolon delimited\n",
    "            ' gene_version \"1\"',\n",
    "            ' transcript_id \"mCherry\"',\n",
    "            ' transcript_version \"1\"',\n",
    "            ' gene_name \"mCherry\"',\n",
    "            ' gene_source \"addgene\"',\n",
    "            ' gene_biotype \"protein_coding\"',\n",
    "            ' transcript_name \"mCherry\"',\n",
    "            ' transcript_source \"custom\"',\n",
    "            ' transcript_biotype \"protein_coding\"',\n",
    "            ' protein_id \"mCherry\"',\n",
    "            ' tag \"basic\";']\n",
    "mCherry_line_part1 = '\\t'.join((mCherry[0:8]))\n",
    "mCherry_line_part2 = ';'.join((mCherry[8:20]))\n",
    "mCherry_final = '\\t'.join((mCherry_line_part1,mCherry_line_part2))  ## there is one tab separation\n",
    "\n",
    "nr1_flx_site = ['2','Grin1flx','exon',str(flx_start),str(flx_end),'.','-','.', \n",
    "            'gene_id \"Grin1flx\"',\n",
    "            ' gene_version \"1\"',\n",
    "            ' transcript_id \"Grin1flx\"',\n",
    "            ' transcript_version \"1\"',\n",
    "            ' gene_name \"Grin1flx\"',\n",
    "            ' gene_source \"addgene\"',\n",
    "            ' gene_biotype \"protein_coding\"',\n",
    "            ' transcript_name \"Grin1flx\"',\n",
    "            ' transcript_source \"custom\"',\n",
    "            ' transcript_biotype \"protein_coding\"',\n",
    "            ' protein_id \"Grin1flx\"',\n",
    "            ' tag \"basic\";']\n",
    "\n",
    "nr1_flx_site_line_part1 = '\\t'.join((nr1_flx_site[0:8]))\n",
    "nr1_flx_site_line_part2 = ';'.join((nr1_flx_site[8:20]))\n",
    "nr1_flx = '\\t'.join((nr1_flx_site_line_part1,nr1_flx_site_line_part2))  ## there is one tab separation\n",
    "\n",
    "final_genes = '\\n'.join((mCherry_final,nr1_flx))\n",
    "\n",
    "# write the features to the new gtf file\n",
    "\n",
    "with open(mod_gtf_path, \"a\") as myfile:\n",
    "    myfile.write(final_genes)\n",
    "    myfile.close()"
   ]
  },
  {
   "cell_type": "code",
   "execution_count": 5,
   "metadata": {},
   "outputs": [
    {
     "data": {
      "text/plain": [
       "0"
      ]
     },
     "execution_count": 5,
     "metadata": {},
     "output_type": "execute_result"
    }
   ],
   "source": [
    "# filter the gtf, removes unneccesary elements that are not needed to reduce overlap\n",
    "\n",
    "filter_command = \"cellranger mkgtf {} {} --attribute=gene_biotype:protein_coding \\\n",
    "                   --attribute=gene_biotype:lincRNA \\\n",
    "                   --attribute=gene_biotype:antisense \\\n",
    "                   --attribute=gene_biotype:IG_LV_gene \\\n",
    "                   --attribute=gene_biotype:IG_V_gene \\\n",
    "                   --attribute=gene_biotype:IG_V_pseudogene \\\n",
    "                   --attribute=gene_biotype:IG_D_gene \\\n",
    "                   --attribute=gene_biotype:IG_J_gene \\\n",
    "                   --attribute=gene_biotype:IG_J_pseudogene \\\n",
    "                   --attribute=gene_biotype:IG_C_gene \\\n",
    "                   --attribute=gene_biotype:IG_C_pseudogene \\\n",
    "                   --attribute=gene_biotype:TR_V_gene \\\n",
    "                   --attribute=gene_biotype:TR_V_pseudogene \\\n",
    "                   --attribute=gene_biotype:TR_D_gene \\\n",
    "                   --attribute=gene_biotype:TR_J_gene \\\n",
    "                   --attribute=gene_biotype:TR_J_pseudogene \\\n",
    "                   --attribute=gene_biotype:TR_C_gene\".format(mod_gtf_path,filtered_gtf_path)\n",
    "os.system(filter_command)"
   ]
  },
  {
   "cell_type": "code",
   "execution_count": 6,
   "metadata": {},
   "outputs": [
    {
     "data": {
      "text/plain": [
       "0"
      ]
     },
     "execution_count": 6,
     "metadata": {},
     "output_type": "execute_result"
    }
   ],
   "source": [
    "# construct the bed file\n",
    "\n",
    "bed_command = \"gtf2bed < {} > {}\".format(filtered_gtf_path,bed_path)\n",
    "os.system(bed_command)"
   ]
  },
  {
   "cell_type": "code",
   "execution_count": 8,
   "metadata": {},
   "outputs": [
    {
     "data": {
      "text/plain": [
       "0"
      ]
     },
     "execution_count": 8,
     "metadata": {},
     "output_type": "execute_result"
    }
   ],
   "source": [
    "# construct the mapping genome\n",
    "os.chdir('/home_fmi/01/otoosean/home_faimsrv01/Sequel/opt_items/mcherry_nr1_genome_expand')\n",
    "make_genome_command = \"cellranger mkref --genome={} --fasta={} --genes={} --nthreads=30\".format(genome_name,mod_fasta_path,filtered_gtf_path)\n",
    "os.system(make_genome_command)\n"
   ]
  },
  {
   "cell_type": "code",
   "execution_count": null,
   "metadata": {},
   "outputs": [],
   "source": []
  }
 ],
 "metadata": {
  "kernelspec": {
   "display_name": "Python 3 (ipykernel)",
   "language": "python",
   "name": "python3"
  },
  "language_info": {
   "codemirror_mode": {
    "name": "ipython",
    "version": 3
   },
   "file_extension": ".py",
   "mimetype": "text/x-python",
   "name": "python",
   "nbconvert_exporter": "python",
   "pygments_lexer": "ipython3",
   "version": "3.11.5"
  }
 },
 "nbformat": 4,
 "nbformat_minor": 4
}
